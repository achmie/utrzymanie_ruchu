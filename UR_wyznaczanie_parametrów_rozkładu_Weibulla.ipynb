{
  "nbformat": 4,
  "nbformat_minor": 0,
  "metadata": {
    "colab": {
      "name": "Utrzymanie Ruchu - wyznaczanie parametrów rozkładu Weibulla.ipynb",
      "provenance": [],
      "collapsed_sections": [],
      "toc_visible": true,
      "authorship_tag": "ABX9TyNMr6zqhpCkrFt5jZM6W2Cg",
      "include_colab_link": true
    },
    "kernelspec": {
      "name": "python3",
      "display_name": "Python 3"
    },
    "language_info": {
      "name": "python"
    }
  },
  "cells": [
    {
      "cell_type": "markdown",
      "metadata": {
        "id": "view-in-github",
        "colab_type": "text"
      },
      "source": [
        "<a href=\"https://colab.research.google.com/github/achmie/utrzymanie_ruchu/blob/main/Utrzymanie_Ruchu_wyznaczanie_parametr%C3%B3w_rozk%C5%82adu_Weibulla.ipynb\" target=\"_parent\"><img src=\"https://colab.research.google.com/assets/colab-badge.svg\" alt=\"Open In Colab\"/></a>"
      ]
    },
    {
      "cell_type": "code",
      "source": [
        "!pip install reliability"
      ],
      "metadata": {
        "id": "ApFAr-oWgl4r"
      },
      "execution_count": null,
      "outputs": []
    },
    {
      "cell_type": "code",
      "source": [
        "# Import odpowiednich bibliotek (jeśli brakuje biblioteki reliability, użyj polecenia '!pip install reliability').\n",
        "from reliability.Distributions import Weibull_Distribution\n",
        "from reliability.Fitters import Fit_Weibull_2P\n",
        "import matplotlib.pyplot as plt\n",
        "\n",
        "# Dane dotyczące awarii (liczba dni bezawaryjnej pracy każdego elementu).\n",
        "data_a = [43,46,50,51,52,58,58,59,60,63,65,68,70,71,71,72,72,73,76,76,76,80,81,83,83,83,83,84,86,91,92,111]\n",
        "data_b = [1,6,6,13,14,16,17,28,29,34,35,40,42,45,49,58,76,88,91,96,106,156]\n",
        "\n",
        "# Wyznaczenie parametrów przy użyciu metody najmniejszych kwadratów – 'LS' (data_a lub data_b).\n",
        "fit = Fit_Weibull_2P(failures=data_a, method='LS', linewidth=2.5)\n",
        "\n",
        "# Narysowanie wykresu.\n",
        "plt.show()"
      ],
      "metadata": {
        "id": "oTi-UOurNZL8"
      },
      "execution_count": null,
      "outputs": []
    },
    {
      "cell_type": "code",
      "source": [
        "# Import odpowiednich bibliotek (jeśli brakuje biblioteki reliability, użyj polecenia '!pip install reliability').\n",
        "from reliability.Distributions import Weibull_Distribution\n",
        "from reliability.Fitters import Fit_Weibull_2P\n",
        "import matplotlib.pyplot as plt\n",
        "\n",
        "# Dane dotyczące awarii (liczba dni bezawaryjnej pracy każdego elementu).\n",
        "data_a = [43,46,50,51,52,58,58,59,60,63,65,68,70,71,71,72,72,73,76,76,76,80,81,83,83,83,83,84,86,91,92,111]\n",
        "data_b = [1,6,6,13,14,16,17,28,29,34,35,40,42,45,49,58,76,88,91,96,106,156]\n",
        "\n",
        "# Wyznaczenie parametrów przy użyciu metody najmniejszych kwadratów – 'LS' (data_a lub data_b).\n",
        "fit = Fit_Weibull_2P(failures=data_b, method='LS', CI_type='time', CI=0.95, show_probability_plot=False)  \n",
        "fit.distribution.PDF(label='PDF', linewidth=2.5) \n",
        "\n",
        "# Narysowanie wykresu.\n",
        "plt.show()"
      ],
      "metadata": {
        "id": "ekuPgHZ7pvzg"
      },
      "execution_count": null,
      "outputs": []
    }
  ]
}
